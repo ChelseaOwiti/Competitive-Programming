{
  "nbformat": 4,
  "nbformat_minor": 0,
  "metadata": {
    "colab": {
      "provenance": [],
      "authorship_tag": "ABX9TyNtOvyHbodftOdi1RBMO4jY",
      "include_colab_link": true
    },
    "kernelspec": {
      "name": "python3",
      "display_name": "Python 3"
    },
    "language_info": {
      "name": "python"
    }
  },
  "cells": [
    {
      "cell_type": "markdown",
      "metadata": {
        "id": "view-in-github",
        "colab_type": "text"
      },
      "source": [
        "<a href=\"https://colab.research.google.com/github/ChelseaOwiti/Competitive-Programming/blob/master/CP.ipynb\" target=\"_parent\"><img src=\"https://colab.research.google.com/assets/colab-badge.svg\" alt=\"Open In Colab\"/></a>"
      ]
    },
    {
      "cell_type": "code",
      "execution_count": null,
      "metadata": {
        "id": "Cg9DOgb7H7TR"
      },
      "outputs": [],
      "source": [
        "class Solution:\n",
        "    def isValid(self, s: str) -> bool:\n",
        "        stack = []\n",
        "        closeToOpen = {\")\": \"(\", \"[\" : \"]\", \"}\" : \"{\"}\n",
        "\n",
        "        for i in s:\n",
        "            if i in closeToOpen:\n",
        "                return True\n",
        "        for i in s:\n",
        "            if s in [\"()\", \"{}\", \"[]\"]:\n",
        "                return True\n",
        "            else:\n",
        "                return False\n",
        "\n",
        "    \n",
        "        "
      ]
    }
  ]
}